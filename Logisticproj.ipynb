{
 "cells": [
  {
   "cell_type": "code",
   "execution_count": 48,
   "metadata": {},
   "outputs": [],
   "source": [
    "import pandas as pd\n",
    "import numpy as np\n",
    "import matplotlib.pyplot as plt\n",
    "import seaborn as sbn\n",
    "import statsmodels.api as sm"
   ]
  },
  {
   "cell_type": "code",
   "execution_count": 49,
   "metadata": {},
   "outputs": [],
   "source": [
    "import xlrd\n",
    "xlsfile = pd.ExcelFile('SPEED.xls')\n",
    "\n",
    "DF = xlsfile.parse('Sheet1')"
   ]
  },
  {
   "cell_type": "code",
   "execution_count": 50,
   "metadata": {},
   "outputs": [],
   "source": [
    "wk = DF.loc[DF['gender']==0, ['iid', 'gender', 'match', 'attr', 'attr_o', 'sinc', 'sinc_o', 'intel', 'intel_o', \n",
    "                             'fun', 'fun_o', 'amb', 'amb_o', 'shar', 'shar_o']]"
   ]
  },
  {
   "cell_type": "code",
   "execution_count": 51,
   "metadata": {},
   "outputs": [],
   "source": [
    "wk = wk.dropna(axis=0)"
   ]
  },
  {
   "cell_type": "code",
   "execution_count": 52,
   "metadata": {},
   "outputs": [],
   "source": [
    "wk['attr_2avg']=abs((wk['attr']+wk['attr_o'])/2)\n",
    "wk['sinc_2avg']=abs((wk['sinc']+wk['sinc_o'])/2)\n",
    "wk['intel_2avg']=abs((wk['intel']+wk['intel_o'])/2)\n",
    "wk['fun_2avg']=abs((wk['fun']+wk['fun_o'])/2)\n",
    "wk['amb_2avg']=abs((wk['amb']+wk['amb_o'])/2)\n",
    "wk['shar_2avg']=abs((wk['shar']+wk['shar_o'])/2)"
   ]
  },
  {
   "cell_type": "code",
   "execution_count": 53,
   "metadata": {},
   "outputs": [],
   "source": [
    "wk = wk.drop(labels=['attr', 'attr_o', 'sinc', 'sinc_o', 'intel', 'intel_o', 'fun', 'fun_o','amb', 'amb_o', 'shar', 'shar_o'],\n",
    "                     axis=1)\n",
    "wk['intercept']=1.0"
   ]
  },
  {
   "cell_type": "code",
   "execution_count": 54,
   "metadata": {},
   "outputs": [
    {
     "name": "stdout",
     "output_type": "stream",
     "text": [
      "Speed Dating dataframe shape\n",
      "(3013, 10)\n",
      "Speed Dating dataframe column names\n",
      "Index(['iid', 'gender', 'match', 'attr_2avg', 'sinc_2avg', 'intel_2avg',\n",
      "       'fun_2avg', 'amb_2avg', 'shar_2avg', 'intercept'],\n",
      "      dtype='object')\n",
      "Speed Dating dataframe summary\n",
      "               iid  gender        match    attr_2avg    sinc_2avg  \\\n",
      "count  3013.000000  3013.0  3013.000000  3013.000000  3013.000000   \n",
      "mean    277.457351     0.0     0.177896     6.216628     7.183704   \n",
      "std     159.707690     0.0     0.382488     1.350864     1.281388   \n",
      "min       1.000000     0.0     0.000000     1.500000     1.000000   \n",
      "25%     148.000000     0.0     0.000000     5.500000     6.500000   \n",
      "50%     267.000000     0.0     0.000000     6.500000     7.500000   \n",
      "75%     417.000000     0.0     0.000000     7.000000     8.000000   \n",
      "max     530.000000     0.0     1.000000    10.000000    10.000000   \n",
      "\n",
      "        intel_2avg     fun_2avg     amb_2avg    shar_2avg  intercept  \n",
      "count  3013.000000  3013.000000  3013.000000  3013.000000     3013.0  \n",
      "mean      7.391304     6.432625     6.782609     5.505393        1.0  \n",
      "std       1.132624     1.491782     1.283691     1.685084        0.0  \n",
      "min       2.500000     0.500000     1.500000     0.500000        1.0  \n",
      "25%       6.500000     5.500000     6.000000     4.500000        1.0  \n",
      "50%       7.500000     6.500000     7.000000     5.500000        1.0  \n",
      "75%       8.000000     7.500000     7.500000     6.500000        1.0  \n",
      "max      10.000000    10.500000    10.000000    10.000000        1.0  \n"
     ]
    }
   ],
   "source": [
    "print('Speed Dating dataframe shape')\n",
    "print(wk.shape)\n",
    "print('Speed Dating dataframe column names')\n",
    "print(wk.columns)\n",
    "print('Speed Dating dataframe summary')\n",
    "print(wk.describe())"
   ]
  },
  {
   "cell_type": "code",
   "execution_count": 55,
   "metadata": {},
   "outputs": [
    {
     "name": "stdout",
     "output_type": "stream",
     "text": [
      "Optimization terminated successfully.\n",
      "         Current function value: 0.357885\n",
      "         Iterations 7\n",
      "                          Results: Logit\n",
      "==================================================================\n",
      "Model:              Logit            Pseudo R-squared: 0.236      \n",
      "Dependent Variable: match            AIC:              2170.6165  \n",
      "Date:               2018-05-18 12:58 BIC:              2212.6914  \n",
      "No. Observations:   3013             Log-Likelihood:   -1078.3    \n",
      "Df Model:           6                LL-Null:          -1410.6    \n",
      "Df Residuals:       3006             LLR p-value:      2.5748e-140\n",
      "Converged:          1.0000           Scale:            1.0000     \n",
      "No. Iterations:     7.0000                                        \n",
      "-------------------------------------------------------------------\n",
      "               Coef.   Std.Err.     z      P>|z|    [0.025   0.975]\n",
      "-------------------------------------------------------------------\n",
      "attr_2avg      0.5776    0.0591    9.7778  0.0000   0.4618   0.6933\n",
      "sinc_2avg     -0.0624    0.0679   -0.9191  0.3581  -0.1955   0.0707\n",
      "intel_2avg     0.1385    0.0834    1.6607  0.0968  -0.0249   0.3019\n",
      "fun_2avg       0.3753    0.0622    6.0312  0.0000   0.2533   0.4973\n",
      "amb_2avg      -0.2500    0.0651   -3.8386  0.0001  -0.3777  -0.1224\n",
      "shar_2avg      0.3606    0.0477    7.5610  0.0000   0.2671   0.4541\n",
      "intercept     -9.0024    0.5033  -17.8881  0.0000  -9.9888  -8.0161\n",
      "==================================================================\n",
      "\n"
     ]
    }
   ],
   "source": [
    "indepv = wk.columns[3:] #only the attributes\n",
    "logreg = sma.Logit(wk['match'],wk[indepv])\n",
    "logfit = logreg.fit()\n",
    "\n",
    "print(logfit.summary2())\n",
    "\n",
    "sbn.set_style('whitegrid')"
   ]
  },
  {
   "cell_type": "code",
   "execution_count": 56,
   "metadata": {},
   "outputs": [
    {
     "data": {
      "text/html": [
       "<div>\n",
       "<style>\n",
       "    .dataframe thead tr:only-child th {\n",
       "        text-align: right;\n",
       "    }\n",
       "\n",
       "    .dataframe thead th {\n",
       "        text-align: left;\n",
       "    }\n",
       "\n",
       "    .dataframe tbody tr th {\n",
       "        vertical-align: top;\n",
       "    }\n",
       "</style>\n",
       "<table border=\"1\" class=\"dataframe\">\n",
       "  <thead>\n",
       "    <tr style=\"text-align: right;\">\n",
       "      <th></th>\n",
       "      <th>iid</th>\n",
       "      <th>gender</th>\n",
       "      <th>attr_2avg</th>\n",
       "      <th>sinc_2avg</th>\n",
       "      <th>intel_2avg</th>\n",
       "      <th>fun_2avg</th>\n",
       "      <th>amb_2avg</th>\n",
       "      <th>shar_2avg</th>\n",
       "      <th>intercept</th>\n",
       "    </tr>\n",
       "    <tr>\n",
       "      <th>match</th>\n",
       "      <th></th>\n",
       "      <th></th>\n",
       "      <th></th>\n",
       "      <th></th>\n",
       "      <th></th>\n",
       "      <th></th>\n",
       "      <th></th>\n",
       "      <th></th>\n",
       "      <th></th>\n",
       "    </tr>\n",
       "  </thead>\n",
       "  <tbody>\n",
       "    <tr>\n",
       "      <th>0</th>\n",
       "      <td>279.132822</td>\n",
       "      <td>0.0</td>\n",
       "      <td>5.975959</td>\n",
       "      <td>7.047033</td>\n",
       "      <td>7.265038</td>\n",
       "      <td>6.178341</td>\n",
       "      <td>6.658862</td>\n",
       "      <td>5.222447</td>\n",
       "      <td>1.0</td>\n",
       "    </tr>\n",
       "    <tr>\n",
       "      <th>1</th>\n",
       "      <td>269.714552</td>\n",
       "      <td>0.0</td>\n",
       "      <td>7.328825</td>\n",
       "      <td>7.815299</td>\n",
       "      <td>7.974813</td>\n",
       "      <td>7.607743</td>\n",
       "      <td>7.354478</td>\n",
       "      <td>6.812966</td>\n",
       "      <td>1.0</td>\n",
       "    </tr>\n",
       "  </tbody>\n",
       "</table>\n",
       "</div>"
      ],
      "text/plain": [
       "              iid  gender  attr_2avg  sinc_2avg  intel_2avg  fun_2avg  \\\n",
       "match                                                                   \n",
       "0      279.132822     0.0   5.975959   7.047033    7.265038  6.178341   \n",
       "1      269.714552     0.0   7.328825   7.815299    7.974813  7.607743   \n",
       "\n",
       "       amb_2avg  shar_2avg  intercept  \n",
       "match                                  \n",
       "0      6.658862   5.222447        1.0  \n",
       "1      7.354478   6.812966        1.0  "
      ]
     },
     "execution_count": 56,
     "metadata": {},
     "output_type": "execute_result"
    }
   ],
   "source": [
    "#groupby 'match' column\n",
    "wk.groupby('match').mean()"
   ]
  },
  {
   "cell_type": "code",
   "execution_count": 57,
   "metadata": {},
   "outputs": [],
   "source": [
    "from pandas import DataFrame\n",
    "import matplotlib.pyplot as plt\n",
    "%matplotlib inline\n",
    "\n",
    "#Machine Learning Imports\n",
    "from sklearn.linear_model import LogisticRegression\n",
    "from sklearn.cross_validation import train_test_split\n",
    "\n",
    "#For evaluating ML results\n",
    "from sklearn import metrics"
   ]
  },
  {
   "cell_type": "code",
   "execution_count": 58,
   "metadata": {},
   "outputs": [
    {
     "data": {
      "text/plain": [
       "<matplotlib.axes._subplots.AxesSubplot at 0xcde60b8>"
      ]
     },
     "execution_count": 58,
     "metadata": {},
     "output_type": "execute_result"
    },
    {
     "data": {
      "image/png": "[encoded data removed]",
      "text/plain": [
       "<matplotlib.figure.Figure at 0xcde6b38>"
      ]
     },
     "metadata": {},
     "output_type": "display_data"
    }
   ],
   "source": [
    "#Factorplot for attractiveness score average with match hue\n",
    "sbn.countplot(y='attr_2avg', hue='match', data=wk, palette='Greens_d')"
   ]
  },
  {
   "cell_type": "code",
   "execution_count": 59,
   "metadata": {},
   "outputs": [
    {
     "data": {
      "text/plain": [
       "<matplotlib.axes._subplots.AxesSubplot at 0x128cbeb8>"
      ]
     },
     "execution_count": 59,
     "metadata": {},
     "output_type": "execute_result"
    },
    {
     "data": {
      "image/png": "[encoded data removed]",
      "text/plain": [
       "<matplotlib.figure.Figure at 0xbf2b828>"
      ]
     },
     "metadata": {},
     "output_type": "display_data"
    }
   ],
   "source": [
    "#Factorplot for sincerity score average with match hue\n",
    "sbn.countplot(y='sinc_2avg', hue='match', data=wk, palette='Greens_d')"
   ]
  },
  {
   "cell_type": "code",
   "execution_count": 62,
   "metadata": {},
   "outputs": [],
   "source": [
    "X = wk.drop(['match', 'iid', 'gender'], axis=1)\n",
    "Y = wk.match"
   ]
  },
  {
   "cell_type": "code",
   "execution_count": 63,
   "metadata": {},
   "outputs": [
    {
     "data": {
      "text/html": [
       "<div>\n",
       "<style>\n",
       "    .dataframe thead tr:only-child th {\n",
       "        text-align: right;\n",
       "    }\n",
       "\n",
       "    .dataframe thead th {\n",
       "        text-align: left;\n",
       "    }\n",
       "\n",
       "    .dataframe tbody tr th {\n",
       "        vertical-align: top;\n",
       "    }\n",
       "</style>\n",
       "<table border=\"1\" class=\"dataframe\">\n",
       "  <thead>\n",
       "    <tr style=\"text-align: right;\">\n",
       "      <th></th>\n",
       "      <th>attr_2avg</th>\n",
       "      <th>sinc_2avg</th>\n",
       "      <th>intel_2avg</th>\n",
       "      <th>fun_2avg</th>\n",
       "      <th>amb_2avg</th>\n",
       "      <th>shar_2avg</th>\n",
       "      <th>intercept</th>\n",
       "    </tr>\n",
       "  </thead>\n",
       "  <tbody>\n",
       "    <tr>\n",
       "      <th>0</th>\n",
       "      <td>6.0</td>\n",
       "      <td>8.5</td>\n",
       "      <td>7.5</td>\n",
       "      <td>7.5</td>\n",
       "      <td>7.0</td>\n",
       "      <td>5.5</td>\n",
       "      <td>1.0</td>\n",
       "    </tr>\n",
       "    <tr>\n",
       "      <th>1</th>\n",
       "      <td>7.0</td>\n",
       "      <td>8.0</td>\n",
       "      <td>8.5</td>\n",
       "      <td>7.5</td>\n",
       "      <td>6.0</td>\n",
       "      <td>5.5</td>\n",
       "      <td>1.0</td>\n",
       "    </tr>\n",
       "    <tr>\n",
       "      <th>2</th>\n",
       "      <td>7.5</td>\n",
       "      <td>9.0</td>\n",
       "      <td>9.5</td>\n",
       "      <td>9.0</td>\n",
       "      <td>7.5</td>\n",
       "      <td>8.5</td>\n",
       "      <td>1.0</td>\n",
       "    </tr>\n",
       "    <tr>\n",
       "      <th>3</th>\n",
       "      <td>7.0</td>\n",
       "      <td>7.0</td>\n",
       "      <td>8.5</td>\n",
       "      <td>7.5</td>\n",
       "      <td>7.5</td>\n",
       "      <td>8.0</td>\n",
       "      <td>1.0</td>\n",
       "    </tr>\n",
       "    <tr>\n",
       "      <th>4</th>\n",
       "      <td>6.5</td>\n",
       "      <td>6.5</td>\n",
       "      <td>8.0</td>\n",
       "      <td>6.5</td>\n",
       "      <td>7.5</td>\n",
       "      <td>6.5</td>\n",
       "      <td>1.0</td>\n",
       "    </tr>\n",
       "  </tbody>\n",
       "</table>\n",
       "</div>"
      ],
      "text/plain": [
       "   attr_2avg  sinc_2avg  intel_2avg  fun_2avg  amb_2avg  shar_2avg  intercept\n",
       "0        6.0        8.5         7.5       7.5       7.0        5.5        1.0\n",
       "1        7.0        8.0         8.5       7.5       6.0        5.5        1.0\n",
       "2        7.5        9.0         9.5       9.0       7.5        8.5        1.0\n",
       "3        7.0        7.0         8.5       7.5       7.5        8.0        1.0\n",
       "4        6.5        6.5         8.0       6.5       7.5        6.5        1.0"
      ]
     },
     "execution_count": 63,
     "metadata": {},
     "output_type": "execute_result"
    }
   ],
   "source": [
    "X.head()"
   ]
  },
  {
   "cell_type": "code",
   "execution_count": 64,
   "metadata": {},
   "outputs": [
    {
     "data": {
      "text/plain": [
       "0    0\n",
       "1    0\n",
       "2    1\n",
       "3    1\n",
       "4    1\n",
       "Name: match, dtype: int64"
      ]
     },
     "execution_count": 64,
     "metadata": {},
     "output_type": "execute_result"
    }
   ],
   "source": [
    "Y.head()"
   ]
  },
  {
   "cell_type": "code",
   "execution_count": 65,
   "metadata": {},
   "outputs": [
    {
     "data": {
      "text/plain": [
       "array([0, 0, 1, ..., 0, 0, 0], dtype=int64)"
      ]
     },
     "execution_count": 65,
     "metadata": {},
     "output_type": "execute_result"
    }
   ],
   "source": [
    "#to use the Y with scikit learn, set it as 1-D array, flatten the array\n",
    "Y = np.ravel(Y)\n",
    "\n",
    "#check results\n",
    "Y"
   ]
  },
  {
   "cell_type": "code",
   "execution_count": 66,
   "metadata": {},
   "outputs": [
    {
     "data": {
      "text/plain": [
       "0.84732824427480913"
      ]
     },
     "execution_count": 66,
     "metadata": {},
     "output_type": "execute_result"
    }
   ],
   "source": [
    "log_model = LogisticRegression()\n",
    "\n",
    "#Fit our data\n",
    "log_model.fit(X,Y)\n",
    "\n",
    "#Check our accuracy\n",
    "log_model.score(X,Y)"
   ]
  },
  {
   "cell_type": "code",
   "execution_count": 68,
   "metadata": {},
   "outputs": [
    {
     "data": {
      "text/plain": [
       "0.17789578493196151"
      ]
     },
     "execution_count": 68,
     "metadata": {},
     "output_type": "execute_result"
    }
   ],
   "source": [
    "#Check the percentage of a match\n",
    "Y.mean()"
   ]
  },
  {
   "cell_type": "code",
   "execution_count": 69,
   "metadata": {},
   "outputs": [
    {
     "data": {
      "text/plain": [
       "LogisticRegression(C=1.0, class_weight=None, dual=False, fit_intercept=True,\n",
       "          intercept_scaling=1, max_iter=100, multi_class='ovr', n_jobs=1,\n",
       "          penalty='l2', random_state=None, solver='liblinear', tol=0.0001,\n",
       "          verbose=0, warm_start=False)"
      ]
     },
     "execution_count": 69,
     "metadata": {},
     "output_type": "execute_result"
    }
   ],
   "source": [
    "#Split the data\n",
    "X_train, X_test, Y_train, Y_test = train_test_split(X,Y)\n",
    "\n",
    "#Make a new log model\n",
    "log_model2 = LogisticRegression()\n",
    "\n",
    "#Now fit the new model\n",
    "log_model2.fit(X_train, Y_train)"
   ]
  },
  {
   "cell_type": "code",
   "execution_count": 70,
   "metadata": {},
   "outputs": [
    {
     "name": "stdout",
     "output_type": "stream",
     "text": [
      "0.855437665782\n"
     ]
    }
   ],
   "source": [
    "#Predict the classes of the testing data set\n",
    "class_predict = log_model2.predict(X_test)\n",
    "\n",
    "#Compare the predicted classes to the actual test classes\n",
    "print (metrics.accuracy_score(Y_test,class_predict))"
   ]
  },
  {
   "cell_type": "code",
   "execution_count": null,
   "metadata": {},
   "outputs": [],
   "source": []
  }
 ],
 "metadata": {
  "kernelspec": {
   "display_name": "Python 3",
   "language": "python",
   "name": "python3"
  },
  "language_info": {
   "codemirror_mode": {
    "name": "ipython",
    "version": 3
   },
   "file_extension": ".py",
   "mimetype": "text/x-python",
   "name": "python",
   "nbconvert_exporter": "python",
   "pygments_lexer": "ipython3",
   "version": "3.6.3"
  }
 },
 "nbformat": 4,
 "nbformat_minor": 2
}
